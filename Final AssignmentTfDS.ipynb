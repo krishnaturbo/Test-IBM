{
 "cells": [
  {
   "cell_type": "markdown",
   "id": "06f38890-47b9-42cf-a0b0-e581749b359f",
   "metadata": {
    "tags": []
   },
   "source": [
    "# My Jupyter Notebook on IBM Watson Studio"
   ]
  },
  {
   "cell_type": "markdown",
   "id": "3f40029e-1630-49f6-b208-6a78c6acd27f",
   "metadata": {},
   "source": [
    "**AspiringDataScientist**"
   ]
  },
  {
   "cell_type": "markdown",
   "id": "170aa8c0-8d06-405f-9503-6edb8056cfb4",
   "metadata": {},
   "source": [
    "Certified With \"IBM Data Science Professional Certificate\""
   ]
  },
  {
   "cell_type": "markdown",
   "id": "866a3386-292f-49d3-afb1-6ef364a3c634",
   "metadata": {},
   "source": [
    "*I am interested in data science because my current job includes some data analysis and learning more about data science would help me in executing my job role well.*"
   ]
  },
  {
   "cell_type": "markdown",
   "id": "0d638676-7f0d-4c06-9823-f889c01aa298",
   "metadata": {},
   "source": [
    "### In the following cells the code executes simple math operation"
   ]
  },
  {
   "cell_type": "code",
   "execution_count": 10,
   "id": "945801e6-f01c-4e08-80cb-5c63f9beda73",
   "metadata": {},
   "outputs": [
    {
     "name": "stdout",
     "output_type": "stream",
     "text": [
      "3\n"
     ]
    }
   ],
   "source": [
    "#code to execute simple math\n",
    "a = 1\n",
    "b = 2\n",
    "c = a+b\n",
    "print(c)"
   ]
  },
  {
   "cell_type": "markdown",
   "id": "98019e5e-3692-4bf6-91a6-1c7ea2acb9d4",
   "metadata": {},
   "source": [
    "***\n",
    "horizontal rule for bulleted list\n",
    "***"
   ]
  },
  {
   "cell_type": "markdown",
   "id": "ce713abb-a564-445a-b085-31fc5fadf124",
   "metadata": {},
   "source": [
    "* 1 out of 3 bullets\n",
    "* 2 out of 3 bullets\n",
    "* 3 out of 3 bullets"
   ]
  },
  {
   "cell_type": "markdown",
   "id": "34a7e504-8b09-4023-9149-6e86449ded73",
   "metadata": {},
   "source": [
    "***\n",
    "horizontal rule for Numbered List\n",
    "***"
   ]
  },
  {
   "cell_type": "markdown",
   "id": "7a1f527a-f4f2-415d-bac5-9f8f31ed00e6",
   "metadata": {},
   "source": [
    "1. Number 1\n",
    "2. Number 2\n",
    "3. Number 3"
   ]
  },
  {
   "cell_type": "markdown",
   "id": "6ca9fb96-5413-4e3d-b102-ba752fe4c15f",
   "metadata": {},
   "source": [
    "***\n",
    "horizontal rule for hyperlink of IBM Homepage\n",
    "***"
   ]
  },
  {
   "cell_type": "code",
   "execution_count": null,
   "id": "adecbc18-cd29-4fed-89cf-e1c67d210095",
   "metadata": {},
   "outputs": [],
   "source": [
    "<a href=\"https://www.ibm.com/in-en\" target=\"_blank\">this link</a> "
   ]
  }
 ],
 "metadata": {
  "kernelspec": {
   "display_name": "Python",
   "language": "python",
   "name": "conda-env-python-py"
  },
  "language_info": {
   "codemirror_mode": {
    "name": "ipython",
    "version": 3
   },
   "file_extension": ".py",
   "mimetype": "text/x-python",
   "name": "python",
   "nbconvert_exporter": "python",
   "pygments_lexer": "ipython3",
   "version": "3.7.12"
  }
 },
 "nbformat": 4,
 "nbformat_minor": 5
}
